{
 "cells": [
  {
   "cell_type": "markdown",
   "metadata": {},
   "source": [
    "# Inspect data file contents and evaluate their quality"
   ]
  },
  {
   "cell_type": "code",
   "execution_count": 7,
   "metadata": {},
   "outputs": [],
   "source": [
    "import os\n",
    "import pandas as pd\n",
    "from fastparquet import ParquetFile\n",
    "\n",
    "pd.set_option('display.max_columns', None)"
   ]
  },
  {
   "cell_type": "code",
   "execution_count": 8,
   "metadata": {},
   "outputs": [],
   "source": [
    "def load_jsonl_gz_data(path: str):\n",
    "    \"\"\"\n",
    "    Load gzip-compressed jsonl data.\n",
    "    :param str path: Path to file\n",
    "    :return: DataFrame object of the data\n",
    "    \"\"\"\n",
    "\n",
    "    return pd.read_json(path, lines=True, compression='gzip')\n",
    "\n",
    "\n",
    "def load_parquet_data(path: str):\n",
    "    \"\"\"\n",
    "    Load parquet data\n",
    "    :param str path: Path to file\n",
    "    :return DataFrame object of the data: \n",
    "    \"\"\"\n",
    "\n",
    "    return ParquetFile(path).to_pandas()"
   ]
  },
  {
   "cell_type": "markdown",
   "metadata": {},
   "source": [
    "## Load data files to DataFrames for closer inspection"
   ]
  },
  {
   "cell_type": "code",
   "execution_count": 62,
   "metadata": {},
   "outputs": [],
   "source": [
    "df_first_names = load_jsonl_gz_data('airflow/dags/data/most-popular-first-names-by-municipality.jsonl.gz')\n",
    "df_municipalities = load_parquet_data('airflow/dags/data/municipality-listing-2020-10-21.parquet')"
   ]
  },
  {
   "cell_type": "code",
   "execution_count": 63,
   "metadata": {},
   "outputs": [
    {
     "data": {
      "text/html": [
       "<div>\n",
       "<style scoped>\n",
       "    .dataframe tbody tr th:only-of-type {\n",
       "        vertical-align: middle;\n",
       "    }\n",
       "\n",
       "    .dataframe tbody tr th {\n",
       "        vertical-align: top;\n",
       "    }\n",
       "\n",
       "    .dataframe thead th {\n",
       "        text-align: right;\n",
       "    }\n",
       "</style>\n",
       "<table border=\"1\" class=\"dataframe\">\n",
       "  <thead>\n",
       "    <tr style=\"text-align: right;\">\n",
       "      <th></th>\n",
       "      <th>MUNICIPALITY_NUMBER</th>\n",
       "      <th>MUNICIPALITY_NAME_FI</th>\n",
       "      <th>MUNICIPALITY_NAME_SE</th>\n",
       "      <th>MUNICIPALITY_TYPE</th>\n",
       "      <th>PRIMARY_LANGUAGE</th>\n",
       "      <th>ELECTORAL_DISTRICT_NUMBER</th>\n",
       "      <th>ELECTORAL_DISTRICT_NAME_FI</th>\n",
       "      <th>ELECTORAL_DISTRICT_NAME_SE</th>\n",
       "      <th>REGION_NUMBER</th>\n",
       "      <th>REGION_NAME_FI</th>\n",
       "      <th>REGION_NAME_SE</th>\n",
       "    </tr>\n",
       "  </thead>\n",
       "  <tbody>\n",
       "    <tr>\n",
       "      <th>0</th>\n",
       "      <td>5</td>\n",
       "      <td>Alajärvi</td>\n",
       "      <td>Alajärvi</td>\n",
       "      <td>Kaupunki</td>\n",
       "      <td>suomi</td>\n",
       "      <td>10</td>\n",
       "      <td>Vaasan vaalipiiri</td>\n",
       "      <td>Vasa valkrets</td>\n",
       "      <td>13</td>\n",
       "      <td>Etelä-Pohjanmaa</td>\n",
       "      <td>Södra Österbotten</td>\n",
       "    </tr>\n",
       "    <tr>\n",
       "      <th>1</th>\n",
       "      <td>9</td>\n",
       "      <td>Alavieska</td>\n",
       "      <td>Alavieska</td>\n",
       "      <td>Kunta</td>\n",
       "      <td>suomi</td>\n",
       "      <td>12</td>\n",
       "      <td>Oulun vaalipiiri</td>\n",
       "      <td>Uleåborgs valkrets</td>\n",
       "      <td>16</td>\n",
       "      <td>Pohjois-Pohjanmaa</td>\n",
       "      <td>Norra Österbotten</td>\n",
       "    </tr>\n",
       "    <tr>\n",
       "      <th>2</th>\n",
       "      <td>10</td>\n",
       "      <td>Alavus</td>\n",
       "      <td>Alavo</td>\n",
       "      <td>Kaupunki</td>\n",
       "      <td>suomi</td>\n",
       "      <td>10</td>\n",
       "      <td>Vaasan vaalipiiri</td>\n",
       "      <td>Vasa valkrets</td>\n",
       "      <td>13</td>\n",
       "      <td>Etelä-Pohjanmaa</td>\n",
       "      <td>Södra Österbotten</td>\n",
       "    </tr>\n",
       "    <tr>\n",
       "      <th>3</th>\n",
       "      <td>16</td>\n",
       "      <td>Asikkala</td>\n",
       "      <td>Asikkala</td>\n",
       "      <td>Kunta</td>\n",
       "      <td>suomi</td>\n",
       "      <td>6</td>\n",
       "      <td>Hämeen vaalipiiri</td>\n",
       "      <td>Tavastlands valkrets</td>\n",
       "      <td>6</td>\n",
       "      <td>Päijät-Häme</td>\n",
       "      <td>Päijänne-Tavastland</td>\n",
       "    </tr>\n",
       "    <tr>\n",
       "      <th>4</th>\n",
       "      <td>18</td>\n",
       "      <td>Askola</td>\n",
       "      <td>Askola</td>\n",
       "      <td>Kunta</td>\n",
       "      <td>suomi</td>\n",
       "      <td>2</td>\n",
       "      <td>Uudenmaan vaalipiiri</td>\n",
       "      <td>Nylands valkrets</td>\n",
       "      <td>1</td>\n",
       "      <td>Uusimaa</td>\n",
       "      <td>Nyland</td>\n",
       "    </tr>\n",
       "  </tbody>\n",
       "</table>\n",
       "</div>"
      ],
      "text/plain": [
       "   MUNICIPALITY_NUMBER MUNICIPALITY_NAME_FI MUNICIPALITY_NAME_SE  \\\n",
       "0                    5             Alajärvi             Alajärvi   \n",
       "1                    9            Alavieska            Alavieska   \n",
       "2                   10               Alavus                Alavo   \n",
       "3                   16             Asikkala             Asikkala   \n",
       "4                   18               Askola               Askola   \n",
       "\n",
       "  MUNICIPALITY_TYPE PRIMARY_LANGUAGE  ELECTORAL_DISTRICT_NUMBER  \\\n",
       "0          Kaupunki            suomi                         10   \n",
       "1             Kunta            suomi                         12   \n",
       "2          Kaupunki            suomi                         10   \n",
       "3             Kunta            suomi                          6   \n",
       "4             Kunta            suomi                          2   \n",
       "\n",
       "  ELECTORAL_DISTRICT_NAME_FI ELECTORAL_DISTRICT_NAME_SE  REGION_NUMBER  \\\n",
       "0          Vaasan vaalipiiri              Vasa valkrets             13   \n",
       "1           Oulun vaalipiiri         Uleåborgs valkrets             16   \n",
       "2          Vaasan vaalipiiri              Vasa valkrets             13   \n",
       "3          Hämeen vaalipiiri       Tavastlands valkrets              6   \n",
       "4       Uudenmaan vaalipiiri           Nylands valkrets              1   \n",
       "\n",
       "      REGION_NAME_FI       REGION_NAME_SE  \n",
       "0    Etelä-Pohjanmaa    Södra Österbotten  \n",
       "1  Pohjois-Pohjanmaa    Norra Österbotten  \n",
       "2    Etelä-Pohjanmaa    Södra Österbotten  \n",
       "3        Päijät-Häme  Päijänne-Tavastland  \n",
       "4            Uusimaa               Nyland  "
      ]
     },
     "execution_count": 63,
     "metadata": {},
     "output_type": "execute_result"
    }
   ],
   "source": [
    "df_municipalities.head()"
   ]
  },
  {
   "cell_type": "code",
   "execution_count": 66,
   "metadata": {},
   "outputs": [
    {
     "name": "stdout",
     "output_type": "stream",
     "text": [
      "<class 'pandas.core.frame.DataFrame'>\n",
      "RangeIndex: 310 entries, 0 to 309\n",
      "Data columns (total 11 columns):\n",
      " #   Column                      Non-Null Count  Dtype \n",
      "---  ------                      --------------  ----- \n",
      " 0   MUNICIPALITY_NUMBER         310 non-null    int64 \n",
      " 1   MUNICIPALITY_NAME_FI        310 non-null    object\n",
      " 2   MUNICIPALITY_NAME_SE        310 non-null    object\n",
      " 3   MUNICIPALITY_TYPE           310 non-null    object\n",
      " 4   PRIMARY_LANGUAGE            310 non-null    object\n",
      " 5   ELECTORAL_DISTRICT_NUMBER   310 non-null    int64 \n",
      " 6   ELECTORAL_DISTRICT_NAME_FI  310 non-null    object\n",
      " 7   ELECTORAL_DISTRICT_NAME_SE  310 non-null    object\n",
      " 8   REGION_NUMBER               310 non-null    int64 \n",
      " 9   REGION_NAME_FI              310 non-null    object\n",
      " 10  REGION_NAME_SE              310 non-null    object\n",
      "dtypes: int64(3), object(8)\n",
      "memory usage: 26.8+ KB\n"
     ]
    }
   ],
   "source": [
    "df_municipalities.info()"
   ]
  },
  {
   "cell_type": "code",
   "execution_count": 11,
   "metadata": {},
   "outputs": [
    {
     "data": {
      "text/html": [
       "<div>\n",
       "<style scoped>\n",
       "    .dataframe tbody tr th:only-of-type {\n",
       "        vertical-align: middle;\n",
       "    }\n",
       "\n",
       "    .dataframe tbody tr th {\n",
       "        vertical-align: top;\n",
       "    }\n",
       "\n",
       "    .dataframe thead th {\n",
       "        text-align: right;\n",
       "    }\n",
       "</style>\n",
       "<table border=\"1\" class=\"dataframe\">\n",
       "  <thead>\n",
       "    <tr style=\"text-align: right;\">\n",
       "      <th></th>\n",
       "      <th>YEAR_OF_BIRTH</th>\n",
       "      <th>BIRTH_MUNICIPALITY_NUMBER</th>\n",
       "      <th>BIRTH_MUNICIPALITY_NAME</th>\n",
       "      <th>GENDER</th>\n",
       "      <th>FIRST_NAME</th>\n",
       "      <th>AMOUNT</th>\n",
       "    </tr>\n",
       "  </thead>\n",
       "  <tbody>\n",
       "    <tr>\n",
       "      <th>0</th>\n",
       "      <td>1969.0</td>\n",
       "      <td>49.0</td>\n",
       "      <td>Espoo</td>\n",
       "      <td>1.0</td>\n",
       "      <td>Mika</td>\n",
       "      <td>39.0</td>\n",
       "    </tr>\n",
       "    <tr>\n",
       "      <th>1</th>\n",
       "      <td>1969.0</td>\n",
       "      <td>61.0</td>\n",
       "      <td>Forssa</td>\n",
       "      <td>1.0</td>\n",
       "      <td>Marko</td>\n",
       "      <td>11.0</td>\n",
       "    </tr>\n",
       "    <tr>\n",
       "      <th>2</th>\n",
       "      <td>1969.0</td>\n",
       "      <td>91.0</td>\n",
       "      <td>Helsinki</td>\n",
       "      <td>1.0</td>\n",
       "      <td>Mika</td>\n",
       "      <td>256.0</td>\n",
       "    </tr>\n",
       "    <tr>\n",
       "      <th>3</th>\n",
       "      <td>1969.0</td>\n",
       "      <td>92.0</td>\n",
       "      <td>Vantaa</td>\n",
       "      <td>1.0</td>\n",
       "      <td>Mika</td>\n",
       "      <td>47.0</td>\n",
       "    </tr>\n",
       "    <tr>\n",
       "      <th>4</th>\n",
       "      <td>1969.0</td>\n",
       "      <td>106.0</td>\n",
       "      <td>Hyvinkää</td>\n",
       "      <td>1.0</td>\n",
       "      <td>Mika</td>\n",
       "      <td>16.0</td>\n",
       "    </tr>\n",
       "  </tbody>\n",
       "</table>\n",
       "</div>"
      ],
      "text/plain": [
       "   YEAR_OF_BIRTH  BIRTH_MUNICIPALITY_NUMBER BIRTH_MUNICIPALITY_NAME  GENDER  \\\n",
       "0         1969.0                       49.0                   Espoo     1.0   \n",
       "1         1969.0                       61.0                  Forssa     1.0   \n",
       "2         1969.0                       91.0                Helsinki     1.0   \n",
       "3         1969.0                       92.0                  Vantaa     1.0   \n",
       "4         1969.0                      106.0                Hyvinkää     1.0   \n",
       "\n",
       "  FIRST_NAME  AMOUNT  \n",
       "0       Mika    39.0  \n",
       "1      Marko    11.0  \n",
       "2       Mika   256.0  \n",
       "3       Mika    47.0  \n",
       "4       Mika    16.0  "
      ]
     },
     "execution_count": 11,
     "metadata": {},
     "output_type": "execute_result"
    }
   ],
   "source": [
    "df_first_names.head()"
   ]
  },
  {
   "cell_type": "code",
   "execution_count": null,
   "metadata": {},
   "outputs": [],
   "source": [
    "\"\"\"\n",
    "# Type conversion not possible yet, because int field doesn't allow nulls \n",
    "\n",
    "df_first_names_dtypes={\n",
    "  'YEAR_OF_BIRTH': int,\n",
    "  'BIRTH_MUNICIPALITY_NUMBER': int,\n",
    "  'BIRTH_MUNICIPALITY_NAME': str,\n",
    "  'GENDER': bool,\n",
    "  'FIRST_NAME': str,\n",
    "  'AMOUNT': int\n",
    "}\n",
    "df_first_names.astype(df_first_names_dtypes)\n",
    "\"\"\""
   ]
  },
  {
   "cell_type": "markdown",
   "metadata": {},
   "source": [
    "### Check for null values"
   ]
  },
  {
   "cell_type": "code",
   "execution_count": 35,
   "metadata": {},
   "outputs": [
    {
     "data": {
      "text/plain": [
       "MUNICIPALITY_NUMBER           0\n",
       "MUNICIPALITY_NAME_FI          0\n",
       "MUNICIPALITY_NAME_SE          0\n",
       "MUNICIPALITY_TYPE             0\n",
       "PRIMARY_LANGUAGE              0\n",
       "ELECTORAL_DISTRICT_NUMBER     0\n",
       "ELECTORAL_DISTRICT_NAME_FI    0\n",
       "ELECTORAL_DISTRICT_NAME_SE    0\n",
       "REGION_NUMBER                 0\n",
       "REGION_NAME_FI                0\n",
       "REGION_NAME_SE                0\n",
       "dtype: int64"
      ]
     },
     "execution_count": 35,
     "metadata": {},
     "output_type": "execute_result"
    }
   ],
   "source": [
    "df_municipalities.isnull().sum()"
   ]
  },
  {
   "cell_type": "code",
   "execution_count": 36,
   "metadata": {},
   "outputs": [
    {
     "data": {
      "text/plain": [
       "YEAR_OF_BIRTH                 11\n",
       "BIRTH_MUNICIPALITY_NUMBER    246\n",
       "BIRTH_MUNICIPALITY_NAME       11\n",
       "GENDER                        11\n",
       "FIRST_NAME                    11\n",
       "AMOUNT                        11\n",
       "dtype: int64"
      ]
     },
     "execution_count": 36,
     "metadata": {},
     "output_type": "execute_result"
    }
   ],
   "source": [
    "df_first_names.isnull().sum()"
   ]
  },
  {
   "cell_type": "markdown",
   "metadata": {},
   "source": [
    "Nulls found in file:  `most-popular-first-names-by-municipality.jsonl.gz` <br> \n",
    "<br> \n",
    "First, let's clean unusable data. Since the above mentioned data set should contain data about given first names, <br> \n",
    "we should exclude rows having null values the field: `FIRST_NAME`  \n"
   ]
  },
  {
   "cell_type": "code",
   "execution_count": 18,
   "metadata": {},
   "outputs": [],
   "source": [
    "df_first_names_cleaned = df_first_names[df_first_names['FIRST_NAME'].notnull()]"
   ]
  },
  {
   "cell_type": "code",
   "execution_count": 38,
   "metadata": {},
   "outputs": [
    {
     "data": {
      "text/plain": [
       "YEAR_OF_BIRTH                  0\n",
       "BIRTH_MUNICIPALITY_NUMBER    235\n",
       "BIRTH_MUNICIPALITY_NAME        0\n",
       "GENDER                         0\n",
       "FIRST_NAME                     0\n",
       "AMOUNT                         0\n",
       "dtype: int64"
      ]
     },
     "execution_count": 38,
     "metadata": {},
     "output_type": "execute_result"
    }
   ],
   "source": [
    "df_first_names_cleaned.isnull().sum()"
   ]
  },
  {
   "cell_type": "markdown",
   "metadata": {},
   "source": [
    "Now we will treat the column: `BIRTH_MUNICIPALITY_NUMBER`"
   ]
  },
  {
   "cell_type": "code",
   "execution_count": 113,
   "metadata": {},
   "outputs": [
    {
     "data": {
      "text/plain": [
       "Kuopio    119\n",
       "Oulu      116\n",
       "Name: BIRTH_MUNICIPALITY_NAME, dtype: int64"
      ]
     },
     "execution_count": 113,
     "metadata": {},
     "output_type": "execute_result"
    }
   ],
   "source": [
    "filter_nulls = df_first_names_cleaned['BIRTH_MUNICIPALITY_NUMBER'].isnull()\n",
    "df_first_names_cleaned.loc[filter_nulls, 'BIRTH_MUNICIPALITY_NAME'].value_counts()"
   ]
  },
  {
   "cell_type": "markdown",
   "metadata": {},
   "source": [
    "Nulls only occur on two cities, which we find also in the data file: `municipality-listing-2020-10-21.parquet`"
   ]
  },
  {
   "cell_type": "code",
   "execution_count": 114,
   "metadata": {},
   "outputs": [
    {
     "data": {
      "text/html": [
       "<div>\n",
       "<style scoped>\n",
       "    .dataframe tbody tr th:only-of-type {\n",
       "        vertical-align: middle;\n",
       "    }\n",
       "\n",
       "    .dataframe tbody tr th {\n",
       "        vertical-align: top;\n",
       "    }\n",
       "\n",
       "    .dataframe thead th {\n",
       "        text-align: right;\n",
       "    }\n",
       "</style>\n",
       "<table border=\"1\" class=\"dataframe\">\n",
       "  <thead>\n",
       "    <tr style=\"text-align: right;\">\n",
       "      <th></th>\n",
       "      <th>MUNICIPALITY_NUMBER</th>\n",
       "      <th>MUNICIPALITY_NAME_FI</th>\n",
       "      <th>MUNICIPALITY_NAME_SE</th>\n",
       "      <th>MUNICIPALITY_TYPE</th>\n",
       "      <th>PRIMARY_LANGUAGE</th>\n",
       "      <th>ELECTORAL_DISTRICT_NUMBER</th>\n",
       "      <th>ELECTORAL_DISTRICT_NAME_FI</th>\n",
       "      <th>ELECTORAL_DISTRICT_NAME_SE</th>\n",
       "      <th>REGION_NUMBER</th>\n",
       "      <th>REGION_NAME_FI</th>\n",
       "      <th>REGION_NAME_SE</th>\n",
       "    </tr>\n",
       "  </thead>\n",
       "  <tbody>\n",
       "    <tr>\n",
       "      <th>113</th>\n",
       "      <td>297</td>\n",
       "      <td>Kuopio</td>\n",
       "      <td>Kuopio</td>\n",
       "      <td>Kaupunki</td>\n",
       "      <td>suomi</td>\n",
       "      <td>9</td>\n",
       "      <td>Savo-Karjalan vaalipiiri</td>\n",
       "      <td>Savolax-Karelens valkrets</td>\n",
       "      <td>10</td>\n",
       "      <td>Pohjois-Savo</td>\n",
       "      <td>Norra Savolax</td>\n",
       "    </tr>\n",
       "    <tr>\n",
       "      <th>183</th>\n",
       "      <td>564</td>\n",
       "      <td>Oulu</td>\n",
       "      <td>Uleåborg</td>\n",
       "      <td>Kaupunki</td>\n",
       "      <td>suomi</td>\n",
       "      <td>12</td>\n",
       "      <td>Oulun vaalipiiri</td>\n",
       "      <td>Uleåborgs valkrets</td>\n",
       "      <td>16</td>\n",
       "      <td>Pohjois-Pohjanmaa</td>\n",
       "      <td>Norra Österbotten</td>\n",
       "    </tr>\n",
       "  </tbody>\n",
       "</table>\n",
       "</div>"
      ],
      "text/plain": [
       "     MUNICIPALITY_NUMBER MUNICIPALITY_NAME_FI MUNICIPALITY_NAME_SE  \\\n",
       "113                  297               Kuopio               Kuopio   \n",
       "183                  564                 Oulu             Uleåborg   \n",
       "\n",
       "    MUNICIPALITY_TYPE PRIMARY_LANGUAGE  ELECTORAL_DISTRICT_NUMBER  \\\n",
       "113          Kaupunki            suomi                          9   \n",
       "183          Kaupunki            suomi                         12   \n",
       "\n",
       "    ELECTORAL_DISTRICT_NAME_FI ELECTORAL_DISTRICT_NAME_SE  REGION_NUMBER  \\\n",
       "113   Savo-Karjalan vaalipiiri  Savolax-Karelens valkrets             10   \n",
       "183           Oulun vaalipiiri         Uleåborgs valkrets             16   \n",
       "\n",
       "        REGION_NAME_FI     REGION_NAME_SE  \n",
       "113       Pohjois-Savo      Norra Savolax  \n",
       "183  Pohjois-Pohjanmaa  Norra Österbotten  "
      ]
     },
     "execution_count": 114,
     "metadata": {},
     "output_type": "execute_result"
    }
   ],
   "source": [
    "# Check for missing municipalities' municipality numbers in file \n",
    "df_municipalities.loc[df_municipalities['MUNICIPALITY_NAME_FI'].isin(['Oulu', 'Kuopio'])]"
   ]
  },
  {
   "cell_type": "code",
   "execution_count": 122,
   "metadata": {},
   "outputs": [
    {
     "data": {
      "text/plain": [
       "left_only     240\n",
       "both           70\n",
       "right_only      5\n",
       "Name: _merge, dtype: int64"
      ]
     },
     "execution_count": 122,
     "metadata": {},
     "output_type": "execute_result"
    }
   ],
   "source": [
    "# Create a mapping between municipality names and numbers\n",
    "df_municipality_mapping = df_first_names_cleaned[['BIRTH_MUNICIPALITY_NUMBER', 'BIRTH_MUNICIPALITY_NAME']].drop_duplicates().sort_values('BIRTH_MUNICIPALITY_NUMBER')\n",
    "\n",
    "# Try joining data sets by the municipality number\n",
    "df_merged = df_municipalities.merge(df_municipality_mapping, how='outer', left_on=['MUNICIPALITY_NUMBER', 'MUNICIPALITY_NAME_FI'], right_on=['BIRTH_MUNICIPALITY_NUMBER', 'BIRTH_MUNICIPALITY_NAME'], indicator=True)\n",
    "df_merged['_merge'].value_counts()"
   ]
  },
  {
   "cell_type": "markdown",
   "metadata": {},
   "source": [
    "Only five municipalities in the dataset: `most-popular-first-names-by-municipality.jsonl.gz` <br>\n",
    "are not joinable to dataset `municipality-listing-2020-10-21.parquet` by municipality numbers <br>\n",
    "<br>\n",
    "Let's take a closer look into unjoinable municipalities"
   ]
  },
  {
   "cell_type": "code",
   "execution_count": 163,
   "metadata": {},
   "outputs": [
    {
     "data": {
      "text/html": [
       "<div>\n",
       "<style scoped>\n",
       "    .dataframe tbody tr th:only-of-type {\n",
       "        vertical-align: middle;\n",
       "    }\n",
       "\n",
       "    .dataframe tbody tr th {\n",
       "        vertical-align: top;\n",
       "    }\n",
       "\n",
       "    .dataframe thead th {\n",
       "        text-align: right;\n",
       "    }\n",
       "</style>\n",
       "<table border=\"1\" class=\"dataframe\">\n",
       "  <thead>\n",
       "    <tr style=\"text-align: right;\">\n",
       "      <th></th>\n",
       "      <th>BIRTH_MUNICIPALITY_NUMBER</th>\n",
       "      <th>BIRTH_MUNICIPALITY_NAME</th>\n",
       "      <th>_merge</th>\n",
       "    </tr>\n",
       "  </thead>\n",
       "  <tbody>\n",
       "    <tr>\n",
       "      <th>310</th>\n",
       "      <td>88.0</td>\n",
       "      <td>Heinola</td>\n",
       "      <td>right_only</td>\n",
       "    </tr>\n",
       "    <tr>\n",
       "      <th>311</th>\n",
       "      <td>427.0</td>\n",
       "      <td>Lohja</td>\n",
       "      <td>right_only</td>\n",
       "    </tr>\n",
       "    <tr>\n",
       "      <th>312</th>\n",
       "      <td>612.0</td>\n",
       "      <td>Porvoo</td>\n",
       "      <td>right_only</td>\n",
       "    </tr>\n",
       "    <tr>\n",
       "      <th>313</th>\n",
       "      <td>NaN</td>\n",
       "      <td>Kuopio</td>\n",
       "      <td>right_only</td>\n",
       "    </tr>\n",
       "    <tr>\n",
       "      <th>314</th>\n",
       "      <td>NaN</td>\n",
       "      <td>Oulu</td>\n",
       "      <td>right_only</td>\n",
       "    </tr>\n",
       "  </tbody>\n",
       "</table>\n",
       "</div>"
      ],
      "text/plain": [
       "     BIRTH_MUNICIPALITY_NUMBER BIRTH_MUNICIPALITY_NAME      _merge\n",
       "310                       88.0                 Heinola  right_only\n",
       "311                      427.0                   Lohja  right_only\n",
       "312                      612.0                  Porvoo  right_only\n",
       "313                        NaN                  Kuopio  right_only\n",
       "314                        NaN                    Oulu  right_only"
      ]
     },
     "execution_count": 163,
     "metadata": {},
     "output_type": "execute_result"
    }
   ],
   "source": [
    "df_unjoinable_municipalities = df_merged.loc[df_merged['_merge'] == 'right_only', ['BIRTH_MUNICIPALITY_NUMBER', 'BIRTH_MUNICIPALITY_NAME', '_merge']]\n",
    "list_unjoinable_municipalities = df_unjoinable_municipalities['BIRTH_MUNICIPALITY_NAME'].values\n",
    "df_unjoinable_municipalities"
   ]
  },
  {
   "cell_type": "code",
   "execution_count": 164,
   "metadata": {},
   "outputs": [
    {
     "data": {
      "text/plain": [
       "array(['Heinola', 'Lohja', 'Porvoo', 'Kuopio', 'Oulu'], dtype=object)"
      ]
     },
     "execution_count": 164,
     "metadata": {},
     "output_type": "execute_result"
    }
   ],
   "source": [
    "list_unjoinable_municipalities"
   ]
  },
  {
   "cell_type": "code",
   "execution_count": 140,
   "metadata": {},
   "outputs": [
    {
     "data": {
      "text/html": [
       "<div>\n",
       "<style scoped>\n",
       "    .dataframe tbody tr th:only-of-type {\n",
       "        vertical-align: middle;\n",
       "    }\n",
       "\n",
       "    .dataframe tbody tr th {\n",
       "        vertical-align: top;\n",
       "    }\n",
       "\n",
       "    .dataframe thead th {\n",
       "        text-align: right;\n",
       "    }\n",
       "</style>\n",
       "<table border=\"1\" class=\"dataframe\">\n",
       "  <thead>\n",
       "    <tr style=\"text-align: right;\">\n",
       "      <th></th>\n",
       "      <th>MUNICIPALITY_NUMBER</th>\n",
       "      <th>MUNICIPALITY_NAME_FI</th>\n",
       "      <th>MUNICIPALITY_NAME_SE</th>\n",
       "      <th>MUNICIPALITY_TYPE</th>\n",
       "      <th>PRIMARY_LANGUAGE</th>\n",
       "      <th>ELECTORAL_DISTRICT_NUMBER</th>\n",
       "      <th>ELECTORAL_DISTRICT_NAME_FI</th>\n",
       "      <th>ELECTORAL_DISTRICT_NAME_SE</th>\n",
       "      <th>REGION_NUMBER</th>\n",
       "      <th>REGION_NAME_FI</th>\n",
       "      <th>REGION_NAME_SE</th>\n",
       "    </tr>\n",
       "  </thead>\n",
       "  <tbody>\n",
       "    <tr>\n",
       "      <th>43</th>\n",
       "      <td>111</td>\n",
       "      <td>Heinola</td>\n",
       "      <td>Heinola</td>\n",
       "      <td>Kaupunki</td>\n",
       "      <td>suomi</td>\n",
       "      <td>6</td>\n",
       "      <td>Hämeen vaalipiiri</td>\n",
       "      <td>Tavastlands valkrets</td>\n",
       "      <td>6</td>\n",
       "      <td>Päijät-Häme</td>\n",
       "      <td>Päijänne-Tavastland</td>\n",
       "    </tr>\n",
       "    <tr>\n",
       "      <th>113</th>\n",
       "      <td>297</td>\n",
       "      <td>Kuopio</td>\n",
       "      <td>Kuopio</td>\n",
       "      <td>Kaupunki</td>\n",
       "      <td>suomi</td>\n",
       "      <td>9</td>\n",
       "      <td>Savo-Karjalan vaalipiiri</td>\n",
       "      <td>Savolax-Karelens valkrets</td>\n",
       "      <td>10</td>\n",
       "      <td>Pohjois-Savo</td>\n",
       "      <td>Norra Savolax</td>\n",
       "    </tr>\n",
       "    <tr>\n",
       "      <th>151</th>\n",
       "      <td>444</td>\n",
       "      <td>Lohja</td>\n",
       "      <td>Lojo</td>\n",
       "      <td>Kaupunki</td>\n",
       "      <td>ruotsi - suomi</td>\n",
       "      <td>2</td>\n",
       "      <td>Uudenmaan vaalipiiri</td>\n",
       "      <td>Nylands valkrets</td>\n",
       "      <td>1</td>\n",
       "      <td>Uusimaa</td>\n",
       "      <td>Nyland</td>\n",
       "    </tr>\n",
       "    <tr>\n",
       "      <th>183</th>\n",
       "      <td>564</td>\n",
       "      <td>Oulu</td>\n",
       "      <td>Uleåborg</td>\n",
       "      <td>Kaupunki</td>\n",
       "      <td>suomi</td>\n",
       "      <td>12</td>\n",
       "      <td>Oulun vaalipiiri</td>\n",
       "      <td>Uleåborgs valkrets</td>\n",
       "      <td>16</td>\n",
       "      <td>Pohjois-Pohjanmaa</td>\n",
       "      <td>Norra Österbotten</td>\n",
       "    </tr>\n",
       "    <tr>\n",
       "      <th>216</th>\n",
       "      <td>638</td>\n",
       "      <td>Porvoo</td>\n",
       "      <td>Borgå</td>\n",
       "      <td>Kaupunki</td>\n",
       "      <td>suomi</td>\n",
       "      <td>2</td>\n",
       "      <td>Uudenmaan vaalipiiri</td>\n",
       "      <td>Nylands valkrets</td>\n",
       "      <td>1</td>\n",
       "      <td>Uusimaa</td>\n",
       "      <td>Nyland</td>\n",
       "    </tr>\n",
       "  </tbody>\n",
       "</table>\n",
       "</div>"
      ],
      "text/plain": [
       "     MUNICIPALITY_NUMBER MUNICIPALITY_NAME_FI MUNICIPALITY_NAME_SE  \\\n",
       "43                   111              Heinola              Heinola   \n",
       "113                  297               Kuopio               Kuopio   \n",
       "151                  444                Lohja                 Lojo   \n",
       "183                  564                 Oulu             Uleåborg   \n",
       "216                  638               Porvoo                Borgå   \n",
       "\n",
       "    MUNICIPALITY_TYPE PRIMARY_LANGUAGE  ELECTORAL_DISTRICT_NUMBER  \\\n",
       "43           Kaupunki            suomi                          6   \n",
       "113          Kaupunki            suomi                          9   \n",
       "151          Kaupunki   ruotsi - suomi                          2   \n",
       "183          Kaupunki            suomi                         12   \n",
       "216          Kaupunki            suomi                          2   \n",
       "\n",
       "    ELECTORAL_DISTRICT_NAME_FI ELECTORAL_DISTRICT_NAME_SE  REGION_NUMBER  \\\n",
       "43           Hämeen vaalipiiri       Tavastlands valkrets              6   \n",
       "113   Savo-Karjalan vaalipiiri  Savolax-Karelens valkrets             10   \n",
       "151       Uudenmaan vaalipiiri           Nylands valkrets              1   \n",
       "183           Oulun vaalipiiri         Uleåborgs valkrets             16   \n",
       "216       Uudenmaan vaalipiiri           Nylands valkrets              1   \n",
       "\n",
       "        REGION_NAME_FI       REGION_NAME_SE  \n",
       "43         Päijät-Häme  Päijänne-Tavastland  \n",
       "113       Pohjois-Savo        Norra Savolax  \n",
       "151            Uusimaa               Nyland  \n",
       "183  Pohjois-Pohjanmaa    Norra Österbotten  \n",
       "216            Uusimaa               Nyland  "
      ]
     },
     "execution_count": 140,
     "metadata": {},
     "output_type": "execute_result"
    }
   ],
   "source": [
    "df_municipalities[df_municipalities['MUNICIPALITY_NAME_FI'].isin(filter_unjoinable_municipalities)]"
   ]
  },
  {
   "cell_type": "markdown",
   "metadata": {},
   "source": [
    "The three municipalities having `BIRTH_MUNICIPALITY_NUMBER` present in the data, but that didn't join (Heinola, Lohja, Porvoo) have differing municipality numbers. <br>\n",
    "A quick check from the web (https://fi.wikipedia.org/wiki/Luettelo_Suomen_kunnista) shows that the file `municipality-listing-2020-10-21.parquet`<br>\n",
    " contains the true municipality numbers. We should fix the false values and impute missing values to make the data usable."
   ]
  },
  {
   "cell_type": "code",
   "execution_count": 180,
   "metadata": {},
   "outputs": [],
   "source": [
    "df_merge_names = df_first_names_cleaned.merge(df_municipalities, how='left', left_on='BIRTH_MUNICIPALITY_NAME', right_on='MUNICIPALITY_NAME_FI', indicator=True)"
   ]
  },
  {
   "cell_type": "code",
   "execution_count": 199,
   "metadata": {},
   "outputs": [
    {
     "data": {
      "text/html": [
       "<div>\n",
       "<style scoped>\n",
       "    .dataframe tbody tr th:only-of-type {\n",
       "        vertical-align: middle;\n",
       "    }\n",
       "\n",
       "    .dataframe tbody tr th {\n",
       "        vertical-align: top;\n",
       "    }\n",
       "\n",
       "    .dataframe thead th {\n",
       "        text-align: right;\n",
       "    }\n",
       "</style>\n",
       "<table border=\"1\" class=\"dataframe\">\n",
       "  <thead>\n",
       "    <tr style=\"text-align: right;\">\n",
       "      <th></th>\n",
       "      <th>YEAR_OF_BIRTH</th>\n",
       "      <th>BIRTH_MUNICIPALITY_NUMBER</th>\n",
       "      <th>BIRTH_MUNICIPALITY_NAME</th>\n",
       "      <th>GENDER</th>\n",
       "      <th>FIRST_NAME</th>\n",
       "      <th>AMOUNT</th>\n",
       "      <th>MUNICIPALITY_NUMBER</th>\n",
       "      <th>MUNICIPALITY_NAME_FI</th>\n",
       "      <th>MUNICIPALITY_NAME_SE</th>\n",
       "      <th>MUNICIPALITY_TYPE</th>\n",
       "      <th>PRIMARY_LANGUAGE</th>\n",
       "      <th>ELECTORAL_DISTRICT_NUMBER</th>\n",
       "      <th>ELECTORAL_DISTRICT_NAME_FI</th>\n",
       "      <th>ELECTORAL_DISTRICT_NAME_SE</th>\n",
       "      <th>REGION_NUMBER</th>\n",
       "      <th>REGION_NAME_FI</th>\n",
       "      <th>REGION_NAME_SE</th>\n",
       "      <th>_merge</th>\n",
       "    </tr>\n",
       "  </thead>\n",
       "  <tbody>\n",
       "    <tr>\n",
       "      <th>0</th>\n",
       "      <td>1969.0</td>\n",
       "      <td>49.0</td>\n",
       "      <td>Espoo</td>\n",
       "      <td>1.0</td>\n",
       "      <td>Mika</td>\n",
       "      <td>39.0</td>\n",
       "      <td>49</td>\n",
       "      <td>Espoo</td>\n",
       "      <td>Esbo</td>\n",
       "      <td>Kaupunki</td>\n",
       "      <td>suomi - ruotsi</td>\n",
       "      <td>2</td>\n",
       "      <td>Uudenmaan vaalipiiri</td>\n",
       "      <td>Nylands valkrets</td>\n",
       "      <td>1</td>\n",
       "      <td>Uusimaa</td>\n",
       "      <td>Nyland</td>\n",
       "      <td>both</td>\n",
       "    </tr>\n",
       "    <tr>\n",
       "      <th>1</th>\n",
       "      <td>1969.0</td>\n",
       "      <td>61.0</td>\n",
       "      <td>Forssa</td>\n",
       "      <td>1.0</td>\n",
       "      <td>Marko</td>\n",
       "      <td>11.0</td>\n",
       "      <td>61</td>\n",
       "      <td>Forssa</td>\n",
       "      <td>Forssa</td>\n",
       "      <td>Kaupunki</td>\n",
       "      <td>suomi</td>\n",
       "      <td>6</td>\n",
       "      <td>Hämeen vaalipiiri</td>\n",
       "      <td>Tavastlands valkrets</td>\n",
       "      <td>4</td>\n",
       "      <td>Kanta-Häme</td>\n",
       "      <td>Egentliga Tavastland</td>\n",
       "      <td>both</td>\n",
       "    </tr>\n",
       "    <tr>\n",
       "      <th>2</th>\n",
       "      <td>1969.0</td>\n",
       "      <td>91.0</td>\n",
       "      <td>Helsinki</td>\n",
       "      <td>1.0</td>\n",
       "      <td>Mika</td>\n",
       "      <td>256.0</td>\n",
       "      <td>91</td>\n",
       "      <td>Helsinki</td>\n",
       "      <td>Helsingfors</td>\n",
       "      <td>Kaupunki</td>\n",
       "      <td>suomi - ruotsi</td>\n",
       "      <td>1</td>\n",
       "      <td>Helsingin vaalipiiri</td>\n",
       "      <td>Helsingfors valkrets</td>\n",
       "      <td>1</td>\n",
       "      <td>Uusimaa</td>\n",
       "      <td>Nyland</td>\n",
       "      <td>both</td>\n",
       "    </tr>\n",
       "    <tr>\n",
       "      <th>3</th>\n",
       "      <td>1969.0</td>\n",
       "      <td>92.0</td>\n",
       "      <td>Vantaa</td>\n",
       "      <td>1.0</td>\n",
       "      <td>Mika</td>\n",
       "      <td>47.0</td>\n",
       "      <td>92</td>\n",
       "      <td>Vantaa</td>\n",
       "      <td>Vanda</td>\n",
       "      <td>Kaupunki</td>\n",
       "      <td>suomi - ruotsi</td>\n",
       "      <td>2</td>\n",
       "      <td>Uudenmaan vaalipiiri</td>\n",
       "      <td>Nylands valkrets</td>\n",
       "      <td>1</td>\n",
       "      <td>Uusimaa</td>\n",
       "      <td>Nyland</td>\n",
       "      <td>both</td>\n",
       "    </tr>\n",
       "    <tr>\n",
       "      <th>4</th>\n",
       "      <td>1969.0</td>\n",
       "      <td>106.0</td>\n",
       "      <td>Hyvinkää</td>\n",
       "      <td>1.0</td>\n",
       "      <td>Mika</td>\n",
       "      <td>16.0</td>\n",
       "      <td>106</td>\n",
       "      <td>Hyvinkää</td>\n",
       "      <td>Hyvinge</td>\n",
       "      <td>Kaupunki</td>\n",
       "      <td>suomi</td>\n",
       "      <td>2</td>\n",
       "      <td>Uudenmaan vaalipiiri</td>\n",
       "      <td>Nylands valkrets</td>\n",
       "      <td>1</td>\n",
       "      <td>Uusimaa</td>\n",
       "      <td>Nyland</td>\n",
       "      <td>both</td>\n",
       "    </tr>\n",
       "  </tbody>\n",
       "</table>\n",
       "</div>"
      ],
      "text/plain": [
       "   YEAR_OF_BIRTH  BIRTH_MUNICIPALITY_NUMBER BIRTH_MUNICIPALITY_NAME  GENDER  \\\n",
       "0         1969.0                       49.0                   Espoo     1.0   \n",
       "1         1969.0                       61.0                  Forssa     1.0   \n",
       "2         1969.0                       91.0                Helsinki     1.0   \n",
       "3         1969.0                       92.0                  Vantaa     1.0   \n",
       "4         1969.0                      106.0                Hyvinkää     1.0   \n",
       "\n",
       "  FIRST_NAME  AMOUNT  MUNICIPALITY_NUMBER MUNICIPALITY_NAME_FI  \\\n",
       "0       Mika    39.0                   49                Espoo   \n",
       "1      Marko    11.0                   61               Forssa   \n",
       "2       Mika   256.0                   91             Helsinki   \n",
       "3       Mika    47.0                   92               Vantaa   \n",
       "4       Mika    16.0                  106             Hyvinkää   \n",
       "\n",
       "  MUNICIPALITY_NAME_SE MUNICIPALITY_TYPE PRIMARY_LANGUAGE  \\\n",
       "0                 Esbo          Kaupunki   suomi - ruotsi   \n",
       "1               Forssa          Kaupunki            suomi   \n",
       "2          Helsingfors          Kaupunki   suomi - ruotsi   \n",
       "3                Vanda          Kaupunki   suomi - ruotsi   \n",
       "4              Hyvinge          Kaupunki            suomi   \n",
       "\n",
       "   ELECTORAL_DISTRICT_NUMBER ELECTORAL_DISTRICT_NAME_FI  \\\n",
       "0                          2       Uudenmaan vaalipiiri   \n",
       "1                          6          Hämeen vaalipiiri   \n",
       "2                          1       Helsingin vaalipiiri   \n",
       "3                          2       Uudenmaan vaalipiiri   \n",
       "4                          2       Uudenmaan vaalipiiri   \n",
       "\n",
       "  ELECTORAL_DISTRICT_NAME_SE  REGION_NUMBER REGION_NAME_FI  \\\n",
       "0           Nylands valkrets              1        Uusimaa   \n",
       "1       Tavastlands valkrets              4     Kanta-Häme   \n",
       "2       Helsingfors valkrets              1        Uusimaa   \n",
       "3           Nylands valkrets              1        Uusimaa   \n",
       "4           Nylands valkrets              1        Uusimaa   \n",
       "\n",
       "         REGION_NAME_SE _merge  \n",
       "0                Nyland   both  \n",
       "1  Egentliga Tavastland   both  \n",
       "2                Nyland   both  \n",
       "3                Nyland   both  \n",
       "4                Nyland   both  "
      ]
     },
     "execution_count": 199,
     "metadata": {},
     "output_type": "execute_result"
    }
   ],
   "source": [
    "df_merge_names.head()"
   ]
  },
  {
   "cell_type": "code",
   "execution_count": 200,
   "metadata": {},
   "outputs": [
    {
     "data": {
      "text/plain": [
       "0       False\n",
       "1       False\n",
       "2       False\n",
       "3       False\n",
       "4       False\n",
       "        ...  \n",
       "2340     True\n",
       "2341    False\n",
       "2342    False\n",
       "2343    False\n",
       "2344     True\n",
       "Name: BIRTH_MUNICIPALITY_NAME, Length: 2345, dtype: bool"
      ]
     },
     "execution_count": 200,
     "metadata": {},
     "output_type": "execute_result"
    }
   ],
   "source": [
    "# Create a filter for values to be replaced\n",
    "filter_replace = df_merge_names['BIRTH_MUNICIPALITY_NAME'].isin(list_unjoinable_municipalities)\n",
    "filter_replace"
   ]
  },
  {
   "cell_type": "code",
   "execution_count": 186,
   "metadata": {},
   "outputs": [],
   "source": [
    "# Impute and replace values\n",
    "df_first_names_cleaned_imputed = df_first_names_cleaned.copy()\n",
    "df_first_names_cleaned_imputed.loc[filter_replace, 'BIRTH_MUNICIPALITY_NUMBER'] = df_merge_names.loc[filter_replace, 'MUNICIPALITY_NUMBER']"
   ]
  },
  {
   "cell_type": "code",
   "execution_count": 201,
   "metadata": {},
   "outputs": [
    {
     "data": {
      "text/html": [
       "<div>\n",
       "<style scoped>\n",
       "    .dataframe tbody tr th:only-of-type {\n",
       "        vertical-align: middle;\n",
       "    }\n",
       "\n",
       "    .dataframe tbody tr th {\n",
       "        vertical-align: top;\n",
       "    }\n",
       "\n",
       "    .dataframe thead th {\n",
       "        text-align: right;\n",
       "    }\n",
       "</style>\n",
       "<table border=\"1\" class=\"dataframe\">\n",
       "  <thead>\n",
       "    <tr style=\"text-align: right;\">\n",
       "      <th></th>\n",
       "      <th>BIRTH_MUNICIPALITY_NUMBER</th>\n",
       "      <th>BIRTH_MUNICIPALITY_NAME</th>\n",
       "    </tr>\n",
       "  </thead>\n",
       "  <tbody>\n",
       "    <tr>\n",
       "      <th>20</th>\n",
       "      <td>297.0</td>\n",
       "      <td>Kuopio</td>\n",
       "    </tr>\n",
       "    <tr>\n",
       "      <th>25</th>\n",
       "      <td>444.0</td>\n",
       "      <td>Lohja</td>\n",
       "    </tr>\n",
       "    <tr>\n",
       "      <th>29</th>\n",
       "      <td>564.0</td>\n",
       "      <td>Oulu</td>\n",
       "    </tr>\n",
       "    <tr>\n",
       "      <th>81</th>\n",
       "      <td>638.0</td>\n",
       "      <td>Porvoo</td>\n",
       "    </tr>\n",
       "    <tr>\n",
       "      <th>101</th>\n",
       "      <td>111.0</td>\n",
       "      <td>Heinola</td>\n",
       "    </tr>\n",
       "  </tbody>\n",
       "</table>\n",
       "</div>"
      ],
      "text/plain": [
       "     BIRTH_MUNICIPALITY_NUMBER BIRTH_MUNICIPALITY_NAME\n",
       "20                       297.0                  Kuopio\n",
       "25                       444.0                   Lohja\n",
       "29                       564.0                    Oulu\n",
       "81                       638.0                  Porvoo\n",
       "101                      111.0                 Heinola"
      ]
     },
     "execution_count": 201,
     "metadata": {},
     "output_type": "execute_result"
    }
   ],
   "source": [
    "# Check that imputing & replacing values was successful\n",
    "df_first_names_cleaned_imputed.loc[filter_replace, ['BIRTH_MUNICIPALITY_NUMBER', 'BIRTH_MUNICIPALITY_NAME']].drop_duplicates()"
   ]
  }
 ],
 "metadata": {
  "kernelspec": {
   "display_name": "Python 3.10.4 ('pydev')",
   "language": "python",
   "name": "python3"
  },
  "language_info": {
   "codemirror_mode": {
    "name": "ipython",
    "version": 3
   },
   "file_extension": ".py",
   "mimetype": "text/x-python",
   "name": "python",
   "nbconvert_exporter": "python",
   "pygments_lexer": "ipython3",
   "version": "3.10.4"
  },
  "orig_nbformat": 4,
  "vscode": {
   "interpreter": {
    "hash": "ff1306c729c6b82f688f7248a169e0b7080dc5b9d47d682c1d2dc84774d16fc1"
   }
  }
 },
 "nbformat": 4,
 "nbformat_minor": 2
}
